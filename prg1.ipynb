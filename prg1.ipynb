{
 "cells": [
  {
   "cell_type": "code",
   "execution_count": 3,
   "id": "7c680e3e",
   "metadata": {},
   "outputs": [
    {
     "name": "stdout",
     "output_type": "stream",
     "text": [
      "請輸入正整數：3\n"
     ]
    }
   ],
   "source": [
    "sum = 0\n",
    "n = int (input(\"請輸入正整數：\"))"
   ]
  },
  {
   "cell_type": "code",
   "execution_count": 4,
   "id": "f041bf33",
   "metadata": {},
   "outputs": [
    {
     "name": "stdout",
     "output_type": "stream",
     "text": [
      "1 ~ 3 的整數和為 6 \n"
     ]
    }
   ],
   "source": [
    "for i in range(1, n+1):\n",
    "    sum = sum + i\n",
    "print(\"1 ~ %d 的整數和為 %d \" % (n, sum))"
   ]
  },
  {
   "cell_type": "code",
   "execution_count": null,
   "id": "08cd152f",
   "metadata": {},
   "outputs": [],
   "source": []
  }
 ],
 "metadata": {
  "kernelspec": {
   "display_name": "Python 3 (ipykernel)",
   "language": "python",
   "name": "python3"
  },
  "language_info": {
   "codemirror_mode": {
    "name": "ipython",
    "version": 3
   },
   "file_extension": ".py",
   "mimetype": "text/x-python",
   "name": "python",
   "nbconvert_exporter": "python",
   "pygments_lexer": "ipython3",
   "version": "3.7.16"
  }
 },
 "nbformat": 4,
 "nbformat_minor": 5
}
